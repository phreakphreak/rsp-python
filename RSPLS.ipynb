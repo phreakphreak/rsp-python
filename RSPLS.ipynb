{
 "cells": [
  {
   "cell_type": "code",
   "execution_count": null,
   "metadata": {},
   "outputs": [],
   "source": [
    "\n",
    "ROCK = \"rock\"\n",
    "SCISSORS = \"scissors\"\n",
    "PAPER = \"paper\"\n",
    "LIZARD = \"lizard\"\n",
    "SPOCK = \"spock\"\n",
    "\n",
    "CHOICES = [ROCK, SCISSORS, PAPER, LIZARD, SPOCK]\n"
   ]
  }
 ],
 "metadata": {
  "interpreter": {
   "hash": "3e21a0dc21336f78855b1bebe8a9ebe8968313805f47b93667c0bb1ac6d04f13"
  },
  "kernelspec": {
   "display_name": "Python 3.8.10 64-bit ('venv': venv)",
   "language": "python",
   "name": "python3"
  },
  "language_info": {
   "codemirror_mode": {
    "name": "ipython",
    "version": 3
   },
   "file_extension": ".py",
   "mimetype": "text/x-python",
   "name": "python",
   "nbconvert_exporter": "python",
   "pygments_lexer": "ipython3",
   "version": "3.8.10"
  },
  "orig_nbformat": 4
 },
 "nbformat": 4,
 "nbformat_minor": 2
}
